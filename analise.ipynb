{
 "cells": [
  {
   "cell_type": "markdown",
   "id": "0338c2a2",
   "metadata": {},
   "source": [
    "# Desafio Cientista de Dados - PProductions 🎬\n",
    "Este notebook contém a análise exploratória e modelagem dos dados de filmes, com o objetivo de:\n",
    "\n",
    "- Entender os principais fatores que influenciam o sucesso de um filme.\n",
    "- Responder perguntas de negócio levantadas no desafio.\n",
    "- Desenvolver um modelo simples para prever a nota do IMDB.\n",
    "- Salvar o modelo em formato `.pkl`.\n",
    "\n",
    "---"
   ]
  },
  {
   "cell_type": "code",
   "execution_count": 2,
   "id": "307ff968",
   "metadata": {},
   "outputs": [],
   "source": [
    "# Imports\n",
    "import pandas as pd\n",
    "import numpy as np\n",
    "import matplotlib.pyplot as plt\n",
    "import seaborn as sns\n",
    "\n",
    "# Configurações visuais\n",
    "plt.style.use(\"seaborn-v0_8\")\n",
    "sns.set_palette(\"pastel\")\n"
   ]
  },
  {
   "cell_type": "markdown",
   "id": "93566c6c",
   "metadata": {},
   "source": [
    "# Explicação das Bibliotecas e Configurações Visuais\n",
    "## Bibliotecas\n",
    "\n",
    "- **pandas** → usado para **manipulação e análise de dados** (tabelas, séries temporais etc.).  \n",
    "- **numpy** → usado para **cálculos numéricos** e **matrizes**.  \n",
    "- **matplotlib** → usado para **visualização de dados** (gráficos).  \n",
    "- **seaborn** → biblioteca de **gráficos mais estilizados**, construída sobre o matplotlib.  \n",
    "---\n",
    "## Configurações Visuais\n",
    "\n",
    "- `plt.style.use(\"seaborn-v0_8\")` → define o **estilo visual** dos gráficos para o estilo *Seaborn* (versão 0.8), deixando-os mais modernos e limpos.  \n",
    "- `sns.set_palette(\"pastel\")` → aplica a **paleta de cores pastel**, deixando os gráficos com cores mais suaves e agradáveis.  \n"
   ]
  },
  {
   "cell_type": "code",
   "execution_count": 4,
   "id": "ecb93da4",
   "metadata": {},
   "outputs": [],
   "source": [
    "# Carregar o dataset\n",
    "dados_imdb = pd.read_csv(\"desafio_indicium_imdb.csv\", sep=\",\")"
   ]
  },
  {
   "cell_type": "code",
   "execution_count": null,
   "id": "ec89459d",
   "metadata": {},
   "outputs": [],
   "source": []
  }
 ],
 "metadata": {
  "kernelspec": {
   "display_name": ".venv",
   "language": "python",
   "name": "python3"
  },
  "language_info": {
   "codemirror_mode": {
    "name": "ipython",
    "version": 3
   },
   "file_extension": ".py",
   "mimetype": "text/x-python",
   "name": "python",
   "nbconvert_exporter": "python",
   "pygments_lexer": "ipython3",
   "version": "3.13.2"
  }
 },
 "nbformat": 4,
 "nbformat_minor": 5
}
